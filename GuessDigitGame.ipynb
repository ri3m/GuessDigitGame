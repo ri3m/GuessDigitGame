{
 "cells": [
  {
   "cell_type": "code",
   "execution_count": 2,
   "metadata": {},
   "outputs": [],
   "source": [
    "import matplotlib.pyplot as plt\n",
    "import random\n",
    "from sklearn.datasets import load_digits\n",
    "digits=load_digits()\n",
    "images2d=digits.images.reshape(1797, 64)"
   ]
  },
  {
   "cell_type": "code",
   "execution_count": 4,
   "metadata": {},
   "outputs": [
    {
     "data": {
      "image/png": "[encoded data removed]",
      "text/plain": [
       "<Figure size 432x288 with 1 Axes>"
      ]
     },
     "metadata": {},
     "output_type": "display_data"
    },
    {
     "name": "stdout",
     "output_type": "stream",
     "text": [
      "Guess this number! to exit, enter x: 5\n",
      "correct!\n"
     ]
    },
    {
     "data": {
      "image/png": "[encoded data removed]",
      "text/plain": [
       "<Figure size 432x288 with 1 Axes>"
      ]
     },
     "metadata": {},
     "output_type": "display_data"
    },
    {
     "name": "stdout",
     "output_type": "stream",
     "text": [
      "Guess this number! to exit, enter x: 1\n",
      "incorrect :(, try again\n"
     ]
    },
    {
     "data": {
      "image/png": "[encoded data removed]",
      "text/plain": [
       "<Figure size 432x288 with 1 Axes>"
      ]
     },
     "metadata": {},
     "output_type": "display_data"
    },
    {
     "name": "stdout",
     "output_type": "stream",
     "text": [
      "Guess this number! to exit, enter x: x\n",
      "your accuracy score is  50.0\n"
     ]
    }
   ],
   "source": [
    "score=0\n",
    "i=0\n",
    "while True:\n",
    "    randNum= random.randint(0, 1796)\n",
    "    imagelist=images2d[randNum].reshape(8, 8) \n",
    "    plt.imshow(imagelist, cmap=plt.cm.gray_r) \n",
    "    plt.xticks([])\n",
    "    plt.yticks([]) \n",
    "    plt.tight_layout()\n",
    "    plt.show()\n",
    "    val=input(\"Guess this number! to exit, enter x: \")\n",
    "    if(val in {'X', 'x'}):\n",
    "        if(score==0):\n",
    "            print('your accuracy score is 0')\n",
    "        else:\n",
    "            print('your accuracy score is ' ,score/i*100)\n",
    "        break\n",
    "    else:\n",
    "        i=i+1 \n",
    "        if(int(val) == digits.target[randNum]):\n",
    "            score=score+1 \n",
    "            print(\"correct!\")\n",
    "        else:\n",
    "            print(\"incorrect :(, try again\")"
   ]
  },
  {
   "cell_type": "code",
   "execution_count": null,
   "metadata": {},
   "outputs": [],
   "source": []
  }
 ],
 "metadata": {
  "kernelspec": {
   "display_name": "Python 3",
   "language": "python",
   "name": "python3"
  },
  "language_info": {
   "codemirror_mode": {
    "name": "ipython",
    "version": 3
   },
   "file_extension": ".py",
   "mimetype": "text/x-python",
   "name": "python",
   "nbconvert_exporter": "python",
   "pygments_lexer": "ipython3",
   "version": "3.7.3"
  }
 },
 "nbformat": 4,
 "nbformat_minor": 2
}
